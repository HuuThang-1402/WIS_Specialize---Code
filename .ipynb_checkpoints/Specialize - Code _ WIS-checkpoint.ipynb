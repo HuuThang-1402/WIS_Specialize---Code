{
 "cells": [
  {
   "cell_type": "markdown",
   "id": "869be7c5",
   "metadata": {},
   "source": [
    "# Bài test Code nhân sự _ WIS"
   ]
  },
  {
   "cell_type": "markdown",
   "id": "081f79b6",
   "metadata": {},
   "source": [
    "### Bài 1: \n",
    "Yêu cầu người dùng cung cấp một chuỗi và cho biết đó có phải một palindrome không (palindrome là một chuỗi có thể được viết xuôi hay viết ngược vẫn chỉ cho ra chính nó)."
   ]
  },
  {
   "cell_type": "code",
   "execution_count": 12,
   "id": "58a80c97",
   "metadata": {},
   "outputs": [
    {
     "name": "stdout",
     "output_type": "stream",
     "text": [
      "Enter a string: abcba\n",
      "String \"abcba\" is a palindrome\n"
     ]
    }
   ],
   "source": [
    "def isPalindrome(s):\n",
    "    if s==s[::-1]:\n",
    "        return True\n",
    "    else:\n",
    "        return False\n",
    "s=input(\"Nhập vào một chuỗi: \")\n",
    "if isPalindrome(s):\n",
    "    print(f\"Chuỗi \\\"{s}\\\" là palindrome\")\n",
    "else:\n",
    "    print(f\"Chuỗi \\\"{s}\\\" không phải là palindrome\")"
   ]
  },
  {
   "cell_type": "markdown",
   "id": "94c49fa7",
   "metadata": {},
   "source": [
    "### Bài 2:\n",
    "Viết chương trình hỏi người dùng cần tạo bao nhiêu số trong dãy Fibonacci và tạo chúng. Chuỗi Fibonacci là một dãy số trong đó số tiếp theo trong dãy là tổng của hai số trước đó. Ví dụ của một chuỗi Fibonacci như sau: 1, 1, 2, 3, 5, 8, 13,…"
   ]
  },
  {
   "cell_type": "code",
   "execution_count": 9,
   "id": "79ea1098",
   "metadata": {},
   "outputs": [
    {
     "name": "stdout",
     "output_type": "stream",
     "text": [
      "Nhập vào một số muốn tạo chuỗi Fibonacci: -3\n",
      "Hãy nhập một số >=1\n"
     ]
    }
   ],
   "source": [
    "import sys\n",
    "def Fibo(n):\n",
    "    arr=[1,1]\n",
    "    for i in range(2,n):\n",
    "        arr.append(arr[i-1]+arr[i-2])\n",
    "    result=[str(i) for i in arr]\n",
    "    return result\n",
    "n = int(input(\"Nhập vào một số muốn tạo chuỗi Fibonacci: \"))\n",
    "try:\n",
    "    if n<=0:sys.exit()\n",
    "    else:\n",
    "        print(\"Chuỗi Fibonacci là: \",end=\"\")    \n",
    "        if n==1: print(\"1\")\n",
    "        else:\n",
    "            result=Fibo(n)\n",
    "            print(\",\".join(result))\n",
    "except:\n",
    "    print(\"Hãy nhập một số >=1\")"
   ]
  },
  {
   "cell_type": "markdown",
   "id": "82777ee2",
   "metadata": {},
   "source": [
    "### Bài 3:\n",
    "Yêu cầu người dùng nhập một số và xác định xem đó có phải là số nguyên tố hay không."
   ]
  },
  {
   "cell_type": "code",
   "execution_count": 9,
   "id": "7eaab91f",
   "metadata": {},
   "outputs": [
    {
     "name": "stdout",
     "output_type": "stream",
     "text": [
      "Nhập vào một số: 31\n",
      "31 là số nguyên tố\n"
     ]
    }
   ],
   "source": [
    "def isPrime(x):\n",
    "    count=0\n",
    "    for i in range(1,x+1):\n",
    "        if x%i==0:count+=1\n",
    "    return count==2\n",
    "x = int(input(\"Nhập vào một số: \"))\n",
    "if isPrime(x):\n",
    "    print(f\"{x} là số nguyên tố\")\n",
    "else:\n",
    "    print(f\"{x} không phải là số nguyên tố\")"
   ]
  },
  {
   "cell_type": "markdown",
   "id": "8df321e8",
   "metadata": {},
   "source": [
    "### Bài 4\n",
    "Viết một chương trình chấp nhận đầu vào là chuỗi các số nhị phân 4 chữ số, phân tách bởi dấu phẩy, kiểm tra xem chúng có chia hết cho 5 không. Sau đó in các số chia hết cho 5 thành dãy phân tách bởi dấu phẩy.\n",
    "\n",
    "Ví dụ: đầu vào là: 0100,0011,1010,1001\n",
    "\n",
    "    Đầu ra sẽ là: 1010\t"
   ]
  },
  {
   "cell_type": "code",
   "execution_count": 12,
   "id": "7bef29d5",
   "metadata": {},
   "outputs": [
    {
     "name": "stdout",
     "output_type": "stream",
     "text": [
      "Nhập vào chuỗi các số nhị phân 4 chữ số: 0100,0011,1010,1001,0000,1111,1011\n",
      "1010,0000,1111\n"
     ]
    }
   ],
   "source": [
    "import sys\n",
    "s=input(\"Nhập vào chuỗi các số nhị phân 4 chữ số: \").split(\",\")\n",
    "try:\n",
    "    result = []\n",
    "    for i in s:\n",
    "        if len(i)!=4:sys.exit()\n",
    "        if int(i,2)%5==0:result.append(i)\n",
    "    print(\",\".join(result))\n",
    "except:\n",
    "    print(\"Hãy nhập lại input!\")"
   ]
  },
  {
   "cell_type": "markdown",
   "id": "945f525e",
   "metadata": {},
   "source": [
    "### Bài 5\n",
    "Định nghĩa hàm có thể chấp nhận input là số nguyên và in \"Đây là một số chẵn\" nếu nó chẵn và in \"Đây là một số lẻ\" nếu là số lẻ."
   ]
  },
  {
   "cell_type": "code",
   "execution_count": 18,
   "id": "83c8d2b5",
   "metadata": {},
   "outputs": [
    {
     "name": "stdout",
     "output_type": "stream",
     "text": [
      "Nhập vào một số nguyên: 100\n",
      "Đây là một số chẵn\n"
     ]
    }
   ],
   "source": [
    "def evenOrOdd(s):\n",
    "    if s%2==0:print(\"Đây là một số chẵn\")\n",
    "    else:print(\"Đây là một số lẻ\")\n",
    "try:\n",
    "    s = int(input(\"Nhập vào một số nguyên: \"))\n",
    "    evenOrOdd(s)\n",
    "except:\n",
    "    print(\"Hãy nhập một số nguyên\")"
   ]
  },
  {
   "cell_type": "markdown",
   "id": "cfb738d9",
   "metadata": {},
   "source": [
    "### Bài 6\n",
    "Nhập một số, in ra giai thừa của số đó. Lưu ý: Không sử dụng for trong bài tập này.\n"
   ]
  },
  {
   "cell_type": "code",
   "execution_count": 1,
   "id": "af1d9572",
   "metadata": {},
   "outputs": [
    {
     "name": "stdout",
     "output_type": "stream",
     "text": [
      "Nhập vào một số n nguyên dương: 8\n",
      "40320\n"
     ]
    }
   ],
   "source": [
    "import sys\n",
    "def factorial(n):\n",
    "    if n==0 or n==1:return 1\n",
    "    else:return n*factorial(n-1)\n",
    "try:\n",
    "    n = int(input(\"Nhập vào một số n nguyên dương: \"))\n",
    "    if n<0:sys.exit()\n",
    "    print(factorial(n))\n",
    "except:\n",
    "    print(\"Hãy nhập một số nguyên dương\")"
   ]
  },
  {
   "cell_type": "markdown",
   "id": "96155b91",
   "metadata": {},
   "source": [
    "### Bài 7\n",
    "Tạo trò chơi “Cows and Bulls” với cách thức hoạt động như sau:\n",
    "\n",
    "    1. Tạo ngẫu nhiên một con số có 4 chữ số. Yêu cầu người chơi đoán con số đó.\n",
    "    2. Khi người chơi đoán đúng một chữ số nào đó ở đúng vị trí, họ sẽ có một “Cow”. Với mỗi chữ số sai, họ sẽ có một “Bull”. \n",
    "    3. Mỗi khi người dùng đưa ra phỏng đoán, hãy cho họ biết họ có bao nhiêu “Cows” và “Bulls”. Khi người dùng đoán đúng số, trò chơi kết thúc. Theo dõi số lần đoán mà người dùng thực hiện trong suốt trò chơi và họ biết khi kết thúc.\t\n",
    "    \n",
    "Ví dụ: Giả sử, máy tính tạo ra một con số là 1038. Một tương tác sẽ diễn ra như sau:\n",
    "\n",
    "    Welcome to the Cows and Bulls Game! \n",
    " \tEnter a number: \n",
    "  \t>>> 1234\n",
    "  \t2 cows, 0 bulls\n",
    "  \t>>> 1256\n",
    "  \t1 cow, 1 bull\n",
    "  \t..."
   ]
  },
  {
   "cell_type": "code",
   "execution_count": 12,
   "id": "0292ba72",
   "metadata": {},
   "outputs": [
    {
     "name": "stdout",
     "output_type": "stream",
     "text": [
      "Số cần đoán là: 7636\n",
      "Nhập số mà bạn đoán: (0 nếu muốn dừng lại)7434\n",
      "2 cows, 0 bulls\n",
      "Nhập số mà bạn đoán: (0 nếu muốn dừng lại)7444\n",
      "1 cow, 1 bull\n",
      "Nhập số mà bạn đoán: (0 nếu muốn dừng lại)7630\n",
      "3 cows, 2 bulls\n",
      "Nhập số mà bạn đoán: (0 nếu muốn dừng lại)7634\n",
      "3 cows, 3 bulls\n",
      "Nhập số mà bạn đoán: (0 nếu muốn dừng lại)7636\n",
      "4 cows, 4 bulls\n",
      "Số lần mà bạn đã đoán là 5, Số chính xác là: 7636\n"
     ]
    }
   ],
   "source": [
    "from random import randint\n",
    "def checkNumber(number, guess):\n",
    "    cow = 0\n",
    "    number = str(number)\n",
    "    guess = str(guess)\n",
    "    for i in range(4):\n",
    "        if number[i]==guess[i]:cow+=1\n",
    "    return cow\n",
    "def printResult(number,bull):\n",
    "    print(f\"Số lần mà bạn đã đoán là {bull+1}, Số chính xác là: {number}\")\n",
    "number=randint(1000,9999)\n",
    "bull=0\n",
    "print(f\"Số cần đoán là: {number}\")\n",
    "while True:\n",
    "    guess=int(input(\"Nhập số mà bạn đoán: (0 nếu muốn dừng lại)\"))\n",
    "    if guess==0:\n",
    "        printResult(number,bull-1)\n",
    "        break\n",
    "    cow=checkNumber(number, guess)\n",
    "    strcow,strbull=\"\",\"\"\n",
    "    if cow==1: strcow = \"1 cow\"\n",
    "    else: strcow = str(cow)+\" cows\"\n",
    "    if bull==1: strbull=\"1 bull\"\n",
    "    else:strbull=str(bull)+\" bulls\"\n",
    "    print(f\"{strcow}, {strbull}\")\n",
    "    if cow==4:\n",
    "        printResult(number,bull)\n",
    "        break\n",
    "    bull+=1"
   ]
  },
  {
   "cell_type": "markdown",
   "id": "b64c2246",
   "metadata": {},
   "source": [
    "### Bài 8:\n",
    "Viết một chương trình để chuyển đổi số nguyên N sang hệ cơ số B (2 <= B <= 32) bất kỳ."
   ]
  },
  {
   "cell_type": "code",
   "execution_count": 23,
   "id": "457ba908",
   "metadata": {},
   "outputs": [
    {
     "name": "stdout",
     "output_type": "stream",
     "text": [
      "Nhập số nguyên dương n = 19043\n",
      "Nhập cơ số B muốn chuyển đổi (2<=B<=32): 27\n",
      "Hệ cơ số  27 của số nguyên 12345 là: GP6\n"
     ]
    }
   ],
   "source": [
    "def convert_number(number, b):\n",
    "    if number < 0:return \"\"\n",
    "    result = \"\"\n",
    "    m=0\n",
    "    remainder=number\n",
    "    while(remainder>0):\n",
    "        if(b>10):\n",
    "            m=remainder%b\n",
    "            if(m>=10):result+=str(chr(55 + m))\n",
    "            else:result+=str(m)\n",
    "        else:\n",
    "            result+=str(remainder%b)\n",
    "        remainder//=b\n",
    "    return result[::-1]\n",
    "\n",
    "number = int(input(\"Nhập số nguyên dương n = \"));\n",
    "b = int(input(\"Nhập cơ số B muốn chuyển đổi (2<=B<=32): \"))\n",
    "print(f\"Hệ cơ số  {b} của số nguyên {n} là: {convert_number(n,b)}\")"
   ]
  },
  {
   "cell_type": "code",
   "execution_count": null,
   "id": "13607761",
   "metadata": {},
   "outputs": [],
   "source": []
  }
 ],
 "metadata": {
  "kernelspec": {
   "display_name": "Python 3",
   "language": "python",
   "name": "python3"
  },
  "language_info": {
   "codemirror_mode": {
    "name": "ipython",
    "version": 3
   },
   "file_extension": ".py",
   "mimetype": "text/x-python",
   "name": "python",
   "nbconvert_exporter": "python",
   "pygments_lexer": "ipython3",
   "version": "3.9.5"
  }
 },
 "nbformat": 4,
 "nbformat_minor": 5
}
